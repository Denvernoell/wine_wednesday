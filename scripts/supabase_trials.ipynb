{
 "cells": [
  {
   "cell_type": "code",
   "execution_count": 19,
   "metadata": {},
   "outputs": [],
   "source": [
    "import tomli\n",
    "\n",
    "# Read the config file\n",
    "with open(\"..\\\\.streamlit\\\\secrets.toml\", mode=\"rb\") as fp:\n",
    "\tconfig = tomli.load(fp)\n",
    "\t\n",
    "from supabase import create_client, Client\n",
    "\n",
    "def init_connection():\n",
    "    url = config[\"supabase_url\"]\n",
    "    key = config[\"supabase_key\"]\n",
    "    return create_client(url, key)\n",
    "\n",
    "supabase = init_connection()"
   ]
  },
  {
   "cell_type": "code",
   "execution_count": 20,
   "metadata": {},
   "outputs": [],
   "source": [
    "user_config = config['Denver']"
   ]
  },
  {
   "cell_type": "code",
   "execution_count": 9,
   "metadata": {},
   "outputs": [],
   "source": [
    "# supabase.create_table(\"wine\", schema=\"id SERIAL PRIMARY KEY, name TEXT, year INTEGER, grapes TEXT, country TEXT, region TEXT, description TEXT, picture BYTEA\")\n",
    "user = supabase.auth.sign_up(email=user_config['email'], password=user_config['password'])\n",
    "# user = supabase.auth.sign_in(email=email, password=password)"
   ]
  },
  {
   "cell_type": "code",
   "execution_count": 22,
   "metadata": {},
   "outputs": [],
   "source": [
    "user = supabase.auth.sign_in(email=user_config['email'], password=user_config['password'])"
   ]
  },
  {
   "cell_type": "code",
   "execution_count": 28,
   "metadata": {},
   "outputs": [
    {
     "data": {
      "text/plain": [
       "APIResponse(data=[{'id': 5, 'created_at': '2023-01-12T15:17:44.978228+00:00', 'name': 'Chardonnay', 'color': 'white'}, {'id': 6, 'created_at': '2023-01-12T15:17:44.978228+00:00', 'name': 'Pinot Noir', 'color': 'red'}], count=None)"
      ]
     },
     "execution_count": 28,
     "metadata": {},
     "output_type": "execute_result"
    }
   ],
   "source": [
    "supabase.table('wines').insert([{ 'name': 'Chardonnay', 'color': 'white' }, { 'name': 'Pinot Noir', 'color': 'red'}]).execute()"
   ]
  },
  {
   "cell_type": "code",
   "execution_count": 31,
   "metadata": {},
   "outputs": [
    {
     "data": {
      "text/html": [
       "<div>\n",
       "<style scoped>\n",
       "    .dataframe tbody tr th:only-of-type {\n",
       "        vertical-align: middle;\n",
       "    }\n",
       "\n",
       "    .dataframe tbody tr th {\n",
       "        vertical-align: top;\n",
       "    }\n",
       "\n",
       "    .dataframe thead th {\n",
       "        text-align: right;\n",
       "    }\n",
       "</style>\n",
       "<table border=\"1\" class=\"dataframe\">\n",
       "  <thead>\n",
       "    <tr style=\"text-align: right;\">\n",
       "      <th></th>\n",
       "      <th>id</th>\n",
       "      <th>created_at</th>\n",
       "      <th>name</th>\n",
       "      <th>color</th>\n",
       "    </tr>\n",
       "  </thead>\n",
       "  <tbody>\n",
       "    <tr>\n",
       "      <th>0</th>\n",
       "      <td>5</td>\n",
       "      <td>2023-01-12T15:17:44.978228+00:00</td>\n",
       "      <td>Chardonnay</td>\n",
       "      <td>white</td>\n",
       "    </tr>\n",
       "    <tr>\n",
       "      <th>1</th>\n",
       "      <td>6</td>\n",
       "      <td>2023-01-12T15:17:44.978228+00:00</td>\n",
       "      <td>Pinot Noir</td>\n",
       "      <td>red</td>\n",
       "    </tr>\n",
       "  </tbody>\n",
       "</table>\n",
       "</div>"
      ],
      "text/plain": [
       "   id                        created_at        name  color\n",
       "0   5  2023-01-12T15:17:44.978228+00:00  Chardonnay  white\n",
       "1   6  2023-01-12T15:17:44.978228+00:00  Pinot Noir    red"
      ]
     },
     "execution_count": 31,
     "metadata": {},
     "output_type": "execute_result"
    }
   ],
   "source": [
    "import pandas as pd\n",
    "pd.DataFrame(\n",
    "\tsupabase.table(\"wines\").select(\"*\").execute().data\n",
    ")"
   ]
  },
  {
   "cell_type": "code",
   "execution_count": null,
   "metadata": {},
   "outputs": [],
   "source": [
    "user."
   ]
  },
  {
   "cell_type": "code",
   "execution_count": 14,
   "metadata": {},
   "outputs": [
    {
     "data": {
      "text/plain": [
       "'denvernoell@gmail.com'"
      ]
     },
     "execution_count": 14,
     "metadata": {},
     "output_type": "execute_result"
    }
   ],
   "source": [
    "user.email"
   ]
  },
  {
   "cell_type": "code",
   "execution_count": 15,
   "metadata": {},
   "outputs": [
    {
     "data": {
      "text/plain": [
       "'authenticated'"
      ]
     },
     "execution_count": 15,
     "metadata": {},
     "output_type": "execute_result"
    }
   ],
   "source": [
    "user.aud"
   ]
  }
 ],
 "metadata": {
  "kernelspec": {
   "display_name": "pandas-analysis-Q-8eJEdZ-py3.10",
   "language": "python",
   "name": "python3"
  },
  "language_info": {
   "codemirror_mode": {
    "name": "ipython",
    "version": 3
   },
   "file_extension": ".py",
   "mimetype": "text/x-python",
   "name": "python",
   "nbconvert_exporter": "python",
   "pygments_lexer": "ipython3",
   "version": "3.10.7"
  },
  "orig_nbformat": 4,
  "vscode": {
   "interpreter": {
    "hash": "20b64d71bd7ce376b5f57f95531572c514221f23990d6be83f273c292f3e1659"
   }
  }
 },
 "nbformat": 4,
 "nbformat_minor": 2
}
